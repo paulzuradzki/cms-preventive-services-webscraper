{
 "cells": [
  {
   "cell_type": "markdown",
   "metadata": {},
   "source": [
    "# Web Scraper for CMS Medicare Preventive Services\n",
    "\n",
    "### Description\n",
    "\n",
    "#### Page that we're scraping: \n",
    "https://www.cms.gov/Medicare/Prevention/PrevntionGenInfo/medicare-preventive-services/MPS-QuickReferenceChart-1.html\n",
    "\n",
    "#### Purpose\n",
    "Scrape the website for CMS Medicare preventive services (30 pages, one for each service, as of Jan 2019). This will consolidate the HCPCS codes, diagnosis codes, and waived vs. applied member payments into a spreadsheet. These codes will help carve out preventive services for claims grouping.\n",
    "\n",
    "#### Output\n",
    "* Excel tab with a grid of all attributes (e.g., covered hcpcs and icd codes) for each service as printed on the site\n",
    "* Excel tab with hcpcs codes formatted into a comma-separated list that's friendlier for the grouper\n",
    "* Run time: 6-8 minutes for 30 links; <1 minute if testing on 1-2 links.\n",
    "\n",
    "#### Background \n",
    "* Our website has JavaScript that produces HTML. \n",
    "    * This means we need a browser to render the JavaScript for the final HTML. \n",
    "    * Viewing the source HTML code will not get us the final rendered HTML that a user interacts with on their browser.\n",
    "* There is one home URL and each individual service has a URL that is the home URL concatenated with the service alias. E.g., \"home_url.com.html#service\"\n",
    "\n",
    "#### Steps\n",
    "* Use BeautifulSoup to scrape the CMS site for names and aliases of services (Alcohol Misuse = 'alc_misuse'). Store these in a dictionary called 'services'.\n",
    "* Create a dictionary call 'svc_dict'with each service as a key and store it's link.\n",
    "    * We will later open via Selenium/Firefox. Do this by appending the service to the base/home URL.\n",
    "    * We will also add other attributes to this dictionary like HCPCS and ICD codes that are relevent to the service\n",
    "* Create a function get_info(service, link) that opens a URL, creates a selenium browser object, and fetches the elements we want and stores those in our 'svc_dict' for one given service.\n",
    "* iterate through all links and services and call get_info() to populate our dictionary\n",
    "* lastly, create 'svc_dict2' which will do some text parsing on hcpcs codes only to make a neater comma-separated list of hcpcs codes related to each service\n",
    "* convert 'svc_dict' and 'svc_dict2' to dataframes and export to excel (two tabs)\n",
    "\n",
    "\n",
    "#### Pre-requisites\n",
    "* install selenium and beautifulsoup4 packages\n",
    "    * e.g., \"conda install selenium\"\n",
    "    * \"conda install beatifiulsoup4\"\n",
    "* beautifulsoup supports the Firefox browser, but you need to download a geckodriver.exe and store the executable where your python path is located\n",
    "    * Download here: https://github.com/mozilla/geckodriver/releases/tag/v0.21.0\n",
    "    * Try v21 geckodriver first. The latest is v23, but it seems to cause issues on certain Windows PCs"
   ]
  },
  {
   "cell_type": "code",
   "execution_count": 1,
   "metadata": {},
   "outputs": [],
   "source": [
    "# geckodriver v21.0 appears to work while v23.0 does not...\n",
    "# rationale for selenium vs. beautifulsoup: the web page we want to scrape uses javascript. \n",
    "    # we need selenium to launch the browser and render the final html \n",
    "    # we use beautifulsoup on source html that does not require the browser to render it"
   ]
  },
  {
   "cell_type": "code",
   "execution_count": 2,
   "metadata": {},
   "outputs": [],
   "source": [
    "import requests\n",
    "import bs4\n",
    "import os\n",
    "from selenium import webdriver\n",
    "from selenium.webdriver.firefox.firefox_binary import FirefoxBinary\n",
    "import time\n",
    "import pandas as pd\n",
    "import pprint"
   ]
  },
  {
   "cell_type": "code",
   "execution_count": 3,
   "metadata": {},
   "outputs": [],
   "source": [
    "#Store user login (e.g., \"jsmith\") in variable called \"user\".\n",
    "#We'll use this to guide the Excel output to the user's Downloads folder.\n",
    "\n",
    "user = os.getlogin()"
   ]
  },
  {
   "cell_type": "code",
   "execution_count": 4,
   "metadata": {},
   "outputs": [],
   "source": [
    "#create some variables that will be used as arguments when we call webdriver.Firefox() later\n",
    "    # geckodriver path is needed for selenium to work with firefox\n",
    "    # binary is used to point selenium to the Firefox executable\n",
    "    #later, we create a browser object using gecko_path and binary as arguments\n",
    "    #e.g., \"browser = webdriver.Firefox(firefox_binary=binary, executable_path=gecko_path)\"\n",
    "    #the standard implementation can be simplified to \"webdriver.Firefox()\" depending on your PC\n",
    "\n",
    "gecko_path = r'C:\\Users\\{}\\AppData\\Local\\Continuum\\anaconda3\\geckodriver.exe'.format(user)\n",
    "binary = FirefoxBinary(r'C:\\Users\\{}\\AppData\\Local\\Mozilla Firefox\\firefox.exe'.format(user))"
   ]
  },
  {
   "cell_type": "code",
   "execution_count": 5,
   "metadata": {},
   "outputs": [],
   "source": [
    "#use BeautifulSoup to scrape source html for list of services\n",
    "\n",
    "res = requests.get('https://www.cms.gov/Medicare/Prevention/PrevntionGenInfo/medicare-preventive-services/MPS-QuickReferenceChart-1.html')\n",
    "res.raise_for_status()\n",
    "soup = bs4.BeautifulSoup(res.text,'lxml')"
   ]
  },
  {
   "cell_type": "code",
   "execution_count": 6,
   "metadata": {},
   "outputs": [],
   "source": [
    "# this will fetch a list of html objects that we can parse for each service\n",
    "\n",
    "services_html = soup.select(\"li[role='presentation']\")"
   ]
  },
  {
   "cell_type": "code",
   "execution_count": 7,
   "metadata": {},
   "outputs": [
    {
     "data": {
      "text/plain": [
       "<li role=\"presentation\"><button class=\"telehealthButton\" id=\"ALC_MISUSE\" role=\"menuitem\" tabindex=\"0\" title=\"View Codes and Information About Alcohol Misuse Screening and Counseling\" type=\"button\">Alcohol Misuse Screening and <span class=\"noWrap\">Counseling <img alt=\"This is a Telehealth Service\" src=\"images/Telehealth-Service.png\"/></span></button></li>"
      ]
     },
     "execution_count": 7,
     "metadata": {},
     "output_type": "execute_result"
    }
   ],
   "source": [
    "# we want the text after id= (\"alc_misuse\" in this case) for each element\n",
    "\n",
    "services_html[1]"
   ]
  },
  {
   "cell_type": "code",
   "execution_count": 8,
   "metadata": {},
   "outputs": [
    {
     "data": {
      "text/plain": [
       "'ALC_MISUSE'"
      ]
     },
     "execution_count": 8,
     "metadata": {},
     "output_type": "execute_result"
    }
   ],
   "source": [
    "# create list of services (aliases) that will be appended to a base url link for iteration\n",
    "# start at one b/c the zero-th element is \"all_services\" which is not a service\n",
    "services = []\n",
    "\n",
    "for i in range(1,len(services_html)):\n",
    "    z_str = str([x for x in str(services_html[i]).split(' ') if 'id' in x])\n",
    "    service = z_str.split('\"')[1]\n",
    "    services.append(service)\n",
    "    \n",
    "services[0]"
   ]
  },
  {
   "cell_type": "code",
   "execution_count": 9,
   "metadata": {},
   "outputs": [
    {
     "data": {
      "text/plain": [
       "30"
      ]
     },
     "execution_count": 9,
     "metadata": {},
     "output_type": "execute_result"
    }
   ],
   "source": [
    "# of service\n",
    "len(services)"
   ]
  },
  {
   "cell_type": "code",
   "execution_count": 10,
   "metadata": {},
   "outputs": [],
   "source": [
    "# parse for full descriptions. E.g., \"alc_misuse\" = \"Alcohol Misuse Screening and Counseling\"\n",
    "\n",
    "all_services = soup.select(\"#ALL_SERVICES\")"
   ]
  },
  {
   "cell_type": "code",
   "execution_count": 11,
   "metadata": {},
   "outputs": [
    {
     "data": {
      "text/plain": [
       "['\"ALC_MISUSE_PRINT\" name=\"printOption\" tabindex=\"0\" type=\"checkbox\" value=\"AlcMisuse\"/><label ',\n",
       " '\"ALC_MISUSE_PRINT\">Alcohol Misuse Screening and Counseling</label>\\n']"
      ]
     },
     "execution_count": 11,
     "metadata": {},
     "output_type": "execute_result"
    }
   ],
   "source": [
    "# we want the text \"Alcohol Misuse Screening and Counseling\"\n",
    "# index [1] limites to on service, but we will iterate and get all the service in For Loop below\n",
    "\n",
    "str(all_services).split('<input id=')[1].split('for=')"
   ]
  },
  {
   "cell_type": "code",
   "execution_count": 12,
   "metadata": {},
   "outputs": [
    {
     "name": "stdout",
     "output_type": "stream",
     "text": [
      "ALC_MISUSE, Alcohol Misuse Screening and Counseling\n",
      "AWV, Annual Wellness Visit\n",
      "BONE_MASS, Bone Mass Measurements\n",
      "CARDIO_DIS, Cardiovascular Disease Screening Tests\n",
      "COLO_CAN, Colorectal Cancer Screening\n",
      "TOBACCO, Counseling to Prevent Tobacco Use\n",
      "DEPRESSION, Depression Screening\n",
      "DIABETES, Diabetes Screening\n",
      "DIABETES_SELF, Diabetes Self-Management Training\n",
      "GLAUCOMA, Glaucoma Screening\n",
      "HEP_B_SCREEN, HBV Screening\n",
      "HEP_B, HBV Vaccine and Administration\n",
      "HEP_C, HCV Screening\n",
      "HIV, HIV Screening\n",
      "FLU, Influenza Virus Vaccine and Administration\n",
      "IPPE, IPPE\n",
      "CARDIO_IBT, IBT for Cardiovascular Disease\n",
      "OBESITY_IBT, IBT for Obesity\n",
      "LUNG_CAN, Lung Cancer Screening\n",
      "MNT, Medical Nutrition Therapy\n",
      "PROLONGED, Prolonged Preventive Services\n",
      "MDPP, Medicare Diabetes Prevention Program Expanded Model\n",
      "PNEUMO, Pneumococcal Vaccine and Administration\n",
      "PROSTATE_CAN, Prostate Cancer Screening\n",
      "CERV_CAN, Screening for Cervical Cancer with HPV Tests\n",
      "STI, Screening for STIs and HIBC to Prevent STIs\n",
      "MAMMO, Screening Mammography\n",
      "PAP, Screening Pap Tests\n",
      "PELVIC, Screening Pelvic Examinations\n"
     ]
    }
   ],
   "source": [
    "for i in range(1,len(services)):\n",
    "    s = str(all_services).split('<input id=')[i].split('for=')\n",
    "    s = [s.split('\">') for s in s]\n",
    "    print(s[1][0][1:-6], s[1][1][:-9], sep=', ')"
   ]
  },
  {
   "cell_type": "code",
   "execution_count": 13,
   "metadata": {},
   "outputs": [],
   "source": [
    "# create nested dict for each service that includes URL link for now\n",
    "# populate with other service-level attributes later like: hcpcs, icd10, etc\n",
    "\n",
    "base_link = r'https://www.cms.gov/Medicare/Prevention/PrevntionGenInfo/medicare-preventive-services/MPS-QuickReferenceChart-1.html'\n",
    "\n",
    "svc_dict = {}\n",
    "\n",
    "for s in services:\n",
    "    link = base_link+'#'+s\n",
    "    svc_dict[s] = {}\n",
    "    svc_dict[s]['link'] = link"
   ]
  },
  {
   "cell_type": "code",
   "execution_count": 14,
   "metadata": {},
   "outputs": [
    {
     "data": {
      "text/plain": [
       "dict_keys(['ALC_MISUSE', 'AWV', 'BONE_MASS', 'CARDIO_DIS', 'COLO_CAN', 'TOBACCO', 'DEPRESSION', 'DIABETES', 'DIABETES_SELF', 'GLAUCOMA', 'HEP_B_SCREEN', 'HEP_B', 'HEP_C', 'HIV', 'FLU', 'IPPE', 'CARDIO_IBT', 'OBESITY_IBT', 'LUNG_CAN', 'MNT', 'MDPP', 'PNEUMO', 'PROLONGED', 'PROSTATE_CAN', 'CERV_CAN', 'STI', 'MAMMO', 'PAP', 'PELVIC', 'ULTRASOUND'])"
      ]
     },
     "execution_count": 14,
     "metadata": {},
     "output_type": "execute_result"
    }
   ],
   "source": [
    "# show all service keys\n",
    "\n",
    "svc_dict.keys()"
   ]
  },
  {
   "cell_type": "code",
   "execution_count": 15,
   "metadata": {},
   "outputs": [
    {
     "data": {
      "text/plain": [
       "{'link': 'https://www.cms.gov/Medicare/Prevention/PrevntionGenInfo/medicare-preventive-services/MPS-QuickReferenceChart-1.html#ALC_MISUSE'}"
      ]
     },
     "execution_count": 15,
     "metadata": {},
     "output_type": "execute_result"
    }
   ],
   "source": [
    "# sample attributes within one service\n",
    "# right now we only have link, but we will add other key-values for other attributes\n",
    "\n",
    "svc_dict['ALC_MISUSE']"
   ]
  },
  {
   "cell_type": "code",
   "execution_count": 16,
   "metadata": {},
   "outputs": [],
   "source": [
    "# create function that iterates through attributes (hcpcs, icd10, etc) for a given web page\n",
    "# add each attribute to the service dictionary\n",
    "\n",
    "# take a link, open Firefox page\n",
    "# find each element (HCPCS, ICD10, etc) within the rendered html text for the link \n",
    "\n",
    "def get_info(service, link):\n",
    "    #browser = webdriver.Firefox() # may need more precise args within ()\n",
    "    browser = webdriver.Firefox(firefox_binary=binary, executable_path=gecko_path)\n",
    "    browser.get(link)\n",
    "    elems = ['HCPCS', 'ICD10', 'WHO', 'FREQUENCY', 'PAYS']\n",
    "    time.sleep(3)\n",
    "    for e in elems:\n",
    "        svc_dict[service][e] = browser.find_element_by_id(e).text\n",
    "    browser.close()"
   ]
  },
  {
   "cell_type": "code",
   "execution_count": 17,
   "metadata": {},
   "outputs": [
    {
     "data": {
      "text/plain": [
       "{'FREQUENCY': 'Frequency\\nAnnually for G0442 (screening)\\nFor those who screen positive, 4 times per year for G0443 (counseling)',\n",
       " 'HCPCS': 'What’s Changed?\\nNo 2019 second quarter changes\\nHCPCS/CPT Codes\\nG0442 – \\nAnnual alcohol misuse screening, 15 minutes\\nG0443 – \\nBrief face-to-face behavioral counseling for alcohol misuse, 15 minutes',\n",
       " 'ICD10': 'ICD-10 Codes\\nNOTE:\\nAdditional ICD-10 codes may apply. See the CMS ICD-10 webpage for individual Change Requests (CRs) and the specific ICD-10-CM codes Medicare covers for this service, and contact your Medicare Administrative Contractor (MAC) for guidance.',\n",
       " 'PAYS': 'Medicare Beneficiary Pays\\nCopayment/coinsurance waived\\nDeductible waived',\n",
       " 'WHO': 'Who Is Covered\\nAll Medicare beneficiaries are eligible for alcohol screening.\\nMedicare beneficiaries are eligible for counseling if they:\\nScreen positive (those who misuse alcohol but whose levels or patterns of alcohol consumption do not meet criteria for alcohol dependence)\\nAre competent and alert at the time counseling is provided\\nGet counseling from qualified primary care physicians or other primary care practitioners in a primary care setting',\n",
       " 'link': 'https://www.cms.gov/Medicare/Prevention/PrevntionGenInfo/medicare-preventive-services/MPS-QuickReferenceChart-1.html#ALC_MISUSE'}"
      ]
     },
     "execution_count": 17,
     "metadata": {},
     "output_type": "execute_result"
    }
   ],
   "source": [
    "# test get_info() on one service; iterate later\n",
    "\n",
    "get_info('ALC_MISUSE', svc_dict['ALC_MISUSE']['link'])\n",
    "svc_dict['ALC_MISUSE']"
   ]
  },
  {
   "cell_type": "code",
   "execution_count": 18,
   "metadata": {},
   "outputs": [],
   "source": [
    "# limit to two services for testing (to avoid iterating over 30)\n",
    "# comment this out to include all services\n",
    "\n",
    "# for k in list(svc_dict.keys()):\n",
    "#     if k not in ['ALC_MISUSE', 'AWV', 'BONE_MASS']:\n",
    "#         del svc_dict[k]\n",
    "        \n",
    "# svc_dict.keys()"
   ]
  },
  {
   "cell_type": "code",
   "execution_count": 19,
   "metadata": {},
   "outputs": [
    {
     "name": "stdout",
     "output_type": "stream",
     "text": [
      "1  of 30: ALC_MISUSE\n",
      "2  of 30: AWV\n",
      "3  of 30: BONE_MASS\n",
      "4  of 30: CARDIO_DIS\n",
      "5  of 30: COLO_CAN\n",
      "6  of 30: TOBACCO\n",
      "7  of 30: DEPRESSION\n",
      "8  of 30: DIABETES\n",
      "9  of 30: DIABETES_SELF\n",
      "10  of 30: GLAUCOMA\n",
      "11  of 30: HEP_B_SCREEN\n",
      "12  of 30: HEP_B\n",
      "13  of 30: HEP_C\n",
      "14  of 30: HIV\n",
      "15  of 30: FLU\n",
      "16  of 30: IPPE\n",
      "17  of 30: CARDIO_IBT\n",
      "18  of 30: OBESITY_IBT\n",
      "19  of 30: LUNG_CAN\n",
      "20  of 30: MNT\n",
      "21  of 30: MDPP\n",
      "22  of 30: PNEUMO\n",
      "23  of 30: PROLONGED\n",
      "24  of 30: PROSTATE_CAN\n",
      "25  of 30: CERV_CAN\n",
      "26  of 30: STI\n",
      "27  of 30: MAMMO\n",
      "28  of 30: PAP\n",
      "29  of 30: PELVIC\n",
      "30  of 30: ULTRASOUND\n",
      "Wall time: 5min 45s\n"
     ]
    }
   ],
   "source": [
    "%%time\n",
    "\n",
    "# iterate through each service and url link\n",
    "# populate service dictionary by calling get_info() each time\n",
    "# print status\n",
    "\n",
    "count = 0\n",
    "\n",
    "for k in svc_dict.keys():\n",
    "    count += 1\n",
    "    print(\"{}  of {}: {}\".format(count, len(svc_dict), k))\n",
    "    try:\n",
    "        get_info(k,svc_dict[k]['link'])\n",
    "    except:\n",
    "        print(\"Error for {}.\".format(k))"
   ]
  },
  {
   "cell_type": "code",
   "execution_count": 20,
   "metadata": {},
   "outputs": [
    {
     "name": "stdout",
     "output_type": "stream",
     "text": [
      "{'FREQUENCY': 'Frequency\\n'\n",
      "              'Annually for G0442 (screening)\\n'\n",
      "              'For those who screen positive, 4 times per year for G0443 '\n",
      "              '(counseling)',\n",
      " 'HCPCS': 'What’s Changed?\\n'\n",
      "          'No 2019 second quarter changes\\n'\n",
      "          'HCPCS/CPT Codes\\n'\n",
      "          'G0442 – \\n'\n",
      "          'Annual alcohol misuse screening, 15 minutes\\n'\n",
      "          'G0443 – \\n'\n",
      "          'Brief face-to-face behavioral counseling for alcohol misuse, 15 '\n",
      "          'minutes',\n",
      " 'ICD10': 'ICD-10 Codes\\n'\n",
      "          'NOTE:\\n'\n",
      "          'Additional ICD-10 codes may apply. See the CMS ICD-10 webpage for '\n",
      "          'individual Change Requests (CRs) and the specific ICD-10-CM codes '\n",
      "          'Medicare covers for this service, and contact your Medicare '\n",
      "          'Administrative Contractor (MAC) for guidance.',\n",
      " 'PAYS': 'Medicare Beneficiary Pays\\n'\n",
      "         'Copayment/coinsurance waived\\n'\n",
      "         'Deductible waived',\n",
      " 'WHO': 'Who Is Covered\\n'\n",
      "        'All Medicare beneficiaries are eligible for alcohol screening.\\n'\n",
      "        'Medicare beneficiaries are eligible for counseling if they:\\n'\n",
      "        'Screen positive (those who misuse alcohol but whose levels or '\n",
      "        'patterns of alcohol consumption do not meet criteria for alcohol '\n",
      "        'dependence)\\n'\n",
      "        'Are competent and alert at the time counseling is provided\\n'\n",
      "        'Get counseling from qualified primary care physicians or other '\n",
      "        'primary care practitioners in a primary care setting',\n",
      " 'link': 'https://www.cms.gov/Medicare/Prevention/PrevntionGenInfo/medicare-preventive-services/MPS-QuickReferenceChart-1.html#ALC_MISUSE'}\n"
     ]
    }
   ],
   "source": [
    "pprint.pprint(svc_dict['ALC_MISUSE'])"
   ]
  },
  {
   "cell_type": "code",
   "execution_count": 21,
   "metadata": {},
   "outputs": [
    {
     "name": "stdout",
     "output_type": "stream",
     "text": [
      "What’s Changed?\n",
      "No 2019 second quarter changes\n",
      "HCPCS/CPT Codes\n",
      "G0442 – \n",
      "Annual alcohol misuse screening, 15 minutes\n",
      "G0443 – \n",
      "Brief face-to-face behavioral counseling for alcohol misuse, 15 minutes\n"
     ]
    }
   ],
   "source": [
    "print(svc_dict['ALC_MISUSE']['HCPCS'])"
   ]
  },
  {
   "cell_type": "code",
   "execution_count": 22,
   "metadata": {},
   "outputs": [],
   "source": [
    "svc_df = pd.DataFrame.from_dict(svc_dict, orient='index')"
   ]
  },
  {
   "cell_type": "code",
   "execution_count": 23,
   "metadata": {},
   "outputs": [
    {
     "data": {
      "text/html": [
       "<div>\n",
       "<style scoped>\n",
       "    .dataframe tbody tr th:only-of-type {\n",
       "        vertical-align: middle;\n",
       "    }\n",
       "\n",
       "    .dataframe tbody tr th {\n",
       "        vertical-align: top;\n",
       "    }\n",
       "\n",
       "    .dataframe thead th {\n",
       "        text-align: right;\n",
       "    }\n",
       "</style>\n",
       "<table border=\"1\" class=\"dataframe\">\n",
       "  <thead>\n",
       "    <tr style=\"text-align: right;\">\n",
       "      <th></th>\n",
       "      <th>link</th>\n",
       "      <th>HCPCS</th>\n",
       "      <th>ICD10</th>\n",
       "      <th>WHO</th>\n",
       "      <th>FREQUENCY</th>\n",
       "      <th>PAYS</th>\n",
       "    </tr>\n",
       "  </thead>\n",
       "  <tbody>\n",
       "    <tr>\n",
       "      <th>ALC_MISUSE</th>\n",
       "      <td>https://www.cms.gov/Medicare/Prevention/Prevnt...</td>\n",
       "      <td>What’s Changed?\\nNo 2019 second quarter change...</td>\n",
       "      <td>ICD-10 Codes\\nNOTE:\\nAdditional ICD-10 codes m...</td>\n",
       "      <td>Who Is Covered\\nAll Medicare beneficiaries are...</td>\n",
       "      <td>Frequency\\nAnnually for G0442 (screening)\\nFor...</td>\n",
       "      <td>Medicare Beneficiary Pays\\nCopayment/coinsuran...</td>\n",
       "    </tr>\n",
       "    <tr>\n",
       "      <th>AWV</th>\n",
       "      <td>https://www.cms.gov/Medicare/Prevention/Prevnt...</td>\n",
       "      <td>What’s Changed?\\nNo 2019 second quarter change...</td>\n",
       "      <td>ICD-10 Codes\\nNOTE:\\nAdditional ICD-10 codes m...</td>\n",
       "      <td>Who Is Covered\\nAll Medicare beneficiaries who...</td>\n",
       "      <td>Frequency\\nOnce in a lifetime for G0438 (first...</td>\n",
       "      <td>Medicare Beneficiary Pays\\nG0438 and G0439:\\nC...</td>\n",
       "    </tr>\n",
       "    <tr>\n",
       "      <th>BONE_MASS</th>\n",
       "      <td>https://www.cms.gov/Medicare/Prevention/Prevnt...</td>\n",
       "      <td>What’s Changed?\\nNo 2019 second quarter change...</td>\n",
       "      <td>ICD-10 Codes\\nE21.0, E21.3, E23.0, E34.2, E89....</td>\n",
       "      <td>Who Is Covered\\nCertain Medicare beneficiaries...</td>\n",
       "      <td>Frequency\\nEvery 2 years\\nMore frequently if m...</td>\n",
       "      <td>Medicare Beneficiary Pays\\nCopayment/coinsuran...</td>\n",
       "    </tr>\n",
       "    <tr>\n",
       "      <th>CARDIO_DIS</th>\n",
       "      <td>https://www.cms.gov/Medicare/Prevention/Prevnt...</td>\n",
       "      <td>What’s Changed?\\nNo 2019 second quarter change...</td>\n",
       "      <td>ICD-10 Codes\\nZ13.6\\nNOTE:\\nAdditional ICD-10 ...</td>\n",
       "      <td>Who Is Covered\\nAll Medicare beneficiaries wit...</td>\n",
       "      <td>Frequency\\nOnce every 5 years</td>\n",
       "      <td>Medicare Beneficiary Pays\\nCopayment/coinsuran...</td>\n",
       "    </tr>\n",
       "    <tr>\n",
       "      <th>CARDIO_IBT</th>\n",
       "      <td>https://www.cms.gov/Medicare/Prevention/Prevnt...</td>\n",
       "      <td>What’s Changed?\\nNo 2019 second quarter change...</td>\n",
       "      <td>ICD-10 Codes\\nNOTE:\\nAdditional ICD-10 codes m...</td>\n",
       "      <td>Who Is Covered\\nAll Medicare beneficiaries who...</td>\n",
       "      <td>Frequency\\nAnnually</td>\n",
       "      <td>Medicare Beneficiary Pays\\nCopayment/coinsuran...</td>\n",
       "    </tr>\n",
       "  </tbody>\n",
       "</table>\n",
       "</div>"
      ],
      "text/plain": [
       "                                                         link  \\\n",
       "ALC_MISUSE  https://www.cms.gov/Medicare/Prevention/Prevnt...   \n",
       "AWV         https://www.cms.gov/Medicare/Prevention/Prevnt...   \n",
       "BONE_MASS   https://www.cms.gov/Medicare/Prevention/Prevnt...   \n",
       "CARDIO_DIS  https://www.cms.gov/Medicare/Prevention/Prevnt...   \n",
       "CARDIO_IBT  https://www.cms.gov/Medicare/Prevention/Prevnt...   \n",
       "\n",
       "                                                        HCPCS  \\\n",
       "ALC_MISUSE  What’s Changed?\\nNo 2019 second quarter change...   \n",
       "AWV         What’s Changed?\\nNo 2019 second quarter change...   \n",
       "BONE_MASS   What’s Changed?\\nNo 2019 second quarter change...   \n",
       "CARDIO_DIS  What’s Changed?\\nNo 2019 second quarter change...   \n",
       "CARDIO_IBT  What’s Changed?\\nNo 2019 second quarter change...   \n",
       "\n",
       "                                                        ICD10  \\\n",
       "ALC_MISUSE  ICD-10 Codes\\nNOTE:\\nAdditional ICD-10 codes m...   \n",
       "AWV         ICD-10 Codes\\nNOTE:\\nAdditional ICD-10 codes m...   \n",
       "BONE_MASS   ICD-10 Codes\\nE21.0, E21.3, E23.0, E34.2, E89....   \n",
       "CARDIO_DIS  ICD-10 Codes\\nZ13.6\\nNOTE:\\nAdditional ICD-10 ...   \n",
       "CARDIO_IBT  ICD-10 Codes\\nNOTE:\\nAdditional ICD-10 codes m...   \n",
       "\n",
       "                                                          WHO  \\\n",
       "ALC_MISUSE  Who Is Covered\\nAll Medicare beneficiaries are...   \n",
       "AWV         Who Is Covered\\nAll Medicare beneficiaries who...   \n",
       "BONE_MASS   Who Is Covered\\nCertain Medicare beneficiaries...   \n",
       "CARDIO_DIS  Who Is Covered\\nAll Medicare beneficiaries wit...   \n",
       "CARDIO_IBT  Who Is Covered\\nAll Medicare beneficiaries who...   \n",
       "\n",
       "                                                    FREQUENCY  \\\n",
       "ALC_MISUSE  Frequency\\nAnnually for G0442 (screening)\\nFor...   \n",
       "AWV         Frequency\\nOnce in a lifetime for G0438 (first...   \n",
       "BONE_MASS   Frequency\\nEvery 2 years\\nMore frequently if m...   \n",
       "CARDIO_DIS                      Frequency\\nOnce every 5 years   \n",
       "CARDIO_IBT                                Frequency\\nAnnually   \n",
       "\n",
       "                                                         PAYS  \n",
       "ALC_MISUSE  Medicare Beneficiary Pays\\nCopayment/coinsuran...  \n",
       "AWV         Medicare Beneficiary Pays\\nG0438 and G0439:\\nC...  \n",
       "BONE_MASS   Medicare Beneficiary Pays\\nCopayment/coinsuran...  \n",
       "CARDIO_DIS  Medicare Beneficiary Pays\\nCopayment/coinsuran...  \n",
       "CARDIO_IBT  Medicare Beneficiary Pays\\nCopayment/coinsuran...  "
      ]
     },
     "execution_count": 23,
     "metadata": {},
     "output_type": "execute_result"
    }
   ],
   "source": [
    "svc_df.head()"
   ]
  },
  {
   "cell_type": "markdown",
   "metadata": {},
   "source": [
    "### Parse hcpcs codes and place them in a dict"
   ]
  },
  {
   "cell_type": "code",
   "execution_count": 24,
   "metadata": {},
   "outputs": [],
   "source": [
    "# setting to display all columns in pandas dataframe\n",
    "\n",
    "pd.set_option('display.max_colwidth', -1)"
   ]
  },
  {
   "cell_type": "code",
   "execution_count": 25,
   "metadata": {},
   "outputs": [],
   "source": [
    "# this dict will store each service as a key with the hcpcs codes as a string\n",
    "\n",
    "svc_dict2 = {}"
   ]
  },
  {
   "cell_type": "code",
   "execution_count": 26,
   "metadata": {},
   "outputs": [
    {
     "data": {
      "text/plain": [
       "ALC_MISUSE    What’s Changed?\\nNo 2019 second quarter changes\\nHCPCS/CPT Codes\\nG0442 – \\nAnnual alcohol misuse screening, 15 minutes\\nG0443 – \\nBrief face-to-face behavioral counseling for alcohol misuse, 15 minutes                                                                                                                                                                                                                                                                                                                                                                                                                                                                                                                                                                                                                                                                                                                                                                                                                                                                                                                                                                                                                                                          \n",
       "AWV           What’s Changed?\\nNo 2019 second quarter changes\\nHCPCS/CPT Codes\\nG0438 – \\nAnnual wellness visit; includes a personalized prevention plan of service (pps), initial visit\\nG0439 – \\nAnnual wellness visit, includes a personalized prevention plan of service (pps), subsequent visit\\nG0468 – \\nFederally qualified health center (fqhc) visit, ippe or awv; a fqhc visit that includes an initial preventive physical examination (ippe) or annual wellness visit (awv) and includes a typical bundle of medicare-covered services that would be furnished per diem to a patient receiving an ippe or awv\\n99497 – \\nAdvance care planning including the explanation and discussion of advance directives such as standard forms (with completion of such forms, when performed), by the physician or other qualified health care professional; first 30 minutes, face-to-face with the patient, family member(s), and/or surrogate\\n99498 – \\nAdvance care planning including the explanation and discussion of advance directives such as standard forms (with completion of such forms, when performed), by the physician or other qualified health care professional; each additional 30 minutes (List separately in addition to code for primary procedure)\n",
       "BONE_MASS     What’s Changed?\\nNo 2019 second quarter changes\\nHCPCS/CPT Codes\\n76977 – \\nUltrasound bone density measurement and interpretation, peripheral site(s), any method\\n77078 – \\nComputed tomography, bone mineral density study, 1 or more sites; axial skeleton (eg, hips, pelvis, spine)\\n77080 – \\nDual-energy X-ray absorptiometry (DXA), bone density study, 1 or more sites; axial skeleton (eg, hips, pelvis, spine)\\n77081 – \\nDual-energy X-ray absorptiometry (DXA), bone density study, 1 or more sites; appendicular skeleton (peripheral) (eg, radius, wrist, heel)\\n77085 – \\nDual-energy X-ray absorptiometry (DXA), bone density study, 1 or more sites; axial skeleton (eg, hips, pelvis, spine), including vertebral fracture assessment\\nG0130 – \\nSingle energy x-ray absorptiometry (sexa) bone density study, 1 or more sites, appendicular skeleton (peripheral) (eg, radius, wrist, heel)                                                                                                                                                                                                                                                                                                                                                     \n",
       "CARDIO_DIS    What’s Changed?\\nNo 2019 second quarter changes\\nHCPCS/CPT Codes\\n80061 – \\nLipid panel: This panel must include the following:\\n82465 –  Cholesterol, serum, total\\n83718 –  Lipoprotein, direct measurement, high density cholesterol (HDL cholesterol)\\n84478 –  Triglycerides                                                                                                                                                                                                                                                                                                                                                                                                                                                                                                                                                                                                                                                                                                                                                                                                                                                                                                                                                                                   \n",
       "CARDIO_IBT    What’s Changed?\\nNo 2019 second quarter changes\\nHCPCS/CPT Codes\\nG0446 – \\nAnnual, face-to-face intensive behavioral therapy for cardiovascular disease, individual, 15 minutes                                                                                                                                                                                                                                                                                                                                                                                                                                                                                                                                                                                                                                                                                                                                                                                                                                                                                                                                                                                                                                                                                    \n",
       "Name: HCPCS, dtype: object"
      ]
     },
     "execution_count": 26,
     "metadata": {},
     "output_type": "execute_result"
    }
   ],
   "source": [
    "# display hcpcs column\n",
    "\n",
    "svc_df['HCPCS'].head()"
   ]
  },
  {
   "cell_type": "code",
   "execution_count": 27,
   "metadata": {},
   "outputs": [],
   "source": [
    "# parse hcpcs from table for a given service\n",
    "\n",
    "def get_hcpcs(service):\n",
    "    s = svc_df['HCPCS'][svc_df.index == service].to_string(index=False)\n",
    "    procs = [x for x in s.split('\\\\n') if '–' in x]\n",
    "    procs = [x.replace(' – ','') for x in procs]\n",
    "    #print(service,': {}'.format(','.join(procs)))\n",
    "    svc_dict2[service] = {}\n",
    "    svc_dict2[service]['HCPCS'] = ','.join(procs)\n",
    "    return procs"
   ]
  },
  {
   "cell_type": "code",
   "execution_count": 28,
   "metadata": {},
   "outputs": [],
   "source": [
    "for i in services:\n",
    "    get_hcpcs(i)"
   ]
  },
  {
   "cell_type": "code",
   "execution_count": 29,
   "metadata": {},
   "outputs": [
    {
     "data": {
      "text/plain": [
       "{'HCPCS': 'G0442,G0443'}"
      ]
     },
     "execution_count": 29,
     "metadata": {},
     "output_type": "execute_result"
    }
   ],
   "source": [
    "svc_dict2['ALC_MISUSE']"
   ]
  },
  {
   "cell_type": "code",
   "execution_count": 30,
   "metadata": {},
   "outputs": [
    {
     "name": "stdout",
     "output_type": "stream",
     "text": [
      "========================================\n",
      "ALC_MISUSE\n",
      "{'HCPCS': 'G0442,G0443'}\n",
      "========================================\n",
      "AWV\n",
      "{'HCPCS': 'G0438,G0439,G0468,99497,99498'}\n",
      "========================================\n",
      "BONE_MASS\n",
      "{'HCPCS': '76977,77078,77080,77081,77085,G0130'}\n",
      "========================================\n",
      "CARDIO_DIS\n",
      "{'HCPCS': '80061,82465 Cholesterol, serum, total,83718 Lipoprotein, direct '\n",
      "          'measurement, high density cholesterol (HDL cholesterol),84478 '\n",
      "          'Triglycerides'}\n",
      "========================================\n",
      "COLO_CAN\n",
      "{'HCPCS': '81528,82270,G0104,G0105,G0106,G0120,G0121,G0328,00812'}\n",
      "========================================\n",
      "TOBACCO\n",
      "{'HCPCS': '99406,99407'}\n",
      "========================================\n",
      "DEPRESSION\n",
      "{'HCPCS': 'G0444'}\n",
      "========================================\n",
      "DIABETES\n",
      "{'HCPCS': '82947,82950,82951'}\n",
      "========================================\n",
      "DIABETES_SELF\n",
      "{'HCPCS': 'G0108,G0109'}\n",
      "========================================\n",
      "GLAUCOMA\n",
      "{'HCPCS': 'G0117,G0118'}\n",
      "========================================\n",
      "HEP_B_SCREEN\n",
      "{'HCPCS': 'G0499,86704,86706,87340,87341'}\n",
      "========================================\n",
      "HEP_B\n",
      "{'HCPCS': '90739,90740,90743,90744,90746,90747,G0010'}\n",
      "========================================\n",
      "HEP_C\n",
      "{'HCPCS': 'G0472'}\n",
      "========================================\n",
      "HIV\n",
      "{'HCPCS': '80081,G0432,G0433,G0435,G0475'}\n",
      "========================================\n",
      "FLU\n",
      "{'HCPCS': '90630,90653,90654,90655,90656,90657,90658,90660,90661,90662,90672,90673,90674,90682,90685,90686,90687,90688,90689*,(*Effective '\n",
      "          'for dates of service on or after January 1, 2019. See the Quarterly '\n",
      "          'Influenza Virus Vaccine Code UpdateJanuary 2019 for more '\n",
      "          'information.),90756,Q2034,Q2035,Q2036,Q2037,Q2038,Q2039**,(**Effective '\n",
      "          'for dates of service from August 1, 2017, through December 31, '\n",
      "          '2017, use code Q2039; Effective on or after the January 2018 '\n",
      "          'release of the new influenza virus vaccine, use code 90756. See the '\n",
      "          'Quarterly Influenza Virus Vaccine Code UpdateJanuary 2018 for more '\n",
      "          'information.),G0008'}\n",
      "========================================\n",
      "IPPE\n",
      "{'HCPCS': 'G0402,G0403,G0404,G0405,G0468'}\n",
      "========================================\n",
      "CARDIO_IBT\n",
      "{'HCPCS': 'G0446'}\n",
      "========================================\n",
      "OBESITY_IBT\n",
      "{'HCPCS': 'G0447,G0473,Face-to-face behavioral counseling for obesity, group '\n",
      "          '(2–10), 30 minutes'}\n",
      "========================================\n",
      "LUNG_CAN\n",
      "{'HCPCS': 'G0296,G0297'}\n",
      "========================================\n",
      "MNT\n",
      "{'HCPCS': '97802,97803,97804,G0270,G0271'}\n",
      "========================================\n",
      "MDPP\n",
      "{'HCPCS': 'G9873,G9874,G9875,G9876,Two Medicare Diabetes Prevention Program '\n",
      "          '(MDPP) core maintenance sessions (MS) were attended by an MDPP '\n",
      "          'beneficiary in months (mo) 7–9 under the MDPP Expanded Model (EM). '\n",
      "          'A core maintenance session is an MDPP service that: (1) is '\n",
      "          'furnished by an MDPP supplier during months 7 through 12 of the '\n",
      "          'MDPP services period; (2) is approximately 1 hour in length; and '\n",
      "          '(3) adheres to a CDC-approved DPP curriculum for maintenance '\n",
      "          'sessions. The beneficiary did not achieve at least 5% weight loss '\n",
      "          '(WL) from his/her baseline weight, as measured by at least one '\n",
      "          'in-person weight measurement at a core maintenance session in '\n",
      "          'months 7–9.,G9877,Two Medicare Diabetes Prevention Program (MDPP) '\n",
      "          'core maintenance sessions (MS) were attended by an MDPP beneficiary '\n",
      "          'in months (mo) 10–12 under the MDPP Expanded Model (EM). A core '\n",
      "          'maintenance session is an MDPP service that: (1) is furnished by an '\n",
      "          'MDPP supplier during months 7 through 12 of the MDPP services '\n",
      "          'period; (2) is approximately 1 hour in length; and (3) adheres to a '\n",
      "          'CDC-approved DPP curriculum for maintenance sessions. The '\n",
      "          'beneficiary did not achieve at least 5% weight loss (WL) from '\n",
      "          'his/her baseline weight, as measured by at least one in-person '\n",
      "          'weight measurement at a core maintenance session in months '\n",
      "          '10–12.,G9878,Two Medicare Diabetes Prevention Program (MDPP) core '\n",
      "          'maintenance sessions (MS) were attended by an MDPP beneficiary in '\n",
      "          'months (mo) 7–9 under the MDPP Expanded Model (EM). A core '\n",
      "          'maintenance session is an MDPP service that: (1) is furnished by an '\n",
      "          'MDPP supplier during months 7 through 12 of the MDPP services '\n",
      "          'period; (2) is approximately 1 hour in length; and (3) adheres to a '\n",
      "          'CDC-approved DPP curriculum for maintenance sessions. The '\n",
      "          'beneficiary achieved at least 5% weight loss (WL) from his/her '\n",
      "          'baseline weight, as measured by at least one in-person weight '\n",
      "          'measurement at a core maintenance session in months 7–9.,G9879,Two '\n",
      "          'Medicare Diabetes Prevention Program (MDPP) core maintenance '\n",
      "          'sessions (MS) were attended by an MDPP beneficiary in months (mo) '\n",
      "          '10–12 under the MDPP Expanded Model (EM). A core maintenance '\n",
      "          'session is an MDPP service that: (1) is furnished by an MDPP '\n",
      "          'supplier during months 7 through 12 of the MDPP services period; '\n",
      "          '(2) is approximately 1 hour in length; and (3) adheres to a '\n",
      "          'CDC-approved DPP curriculum for maintenance sessions. The '\n",
      "          'beneficiary achieved at least 5% weight loss (WL) from his/her '\n",
      "          'baseline weight, as measured by at least one in-person weight '\n",
      "          'measurement at a core maintenance session in months '\n",
      "          '10–12.,G9880,The MDPP beneficiary achieved at least 5% weight loss '\n",
      "          '(WL) from his/her baseline weight in months 1–12 of the MDPP '\n",
      "          'services period under the MDPP Expanded Model (EM). This is a '\n",
      "          'one-time payment available when a beneficiary first achieves at '\n",
      "          'least 5% weight loss from baseline as measured by an in-person '\n",
      "          'weight measurement at a core session or core maintenance '\n",
      "          'session.,G9881,The MDPP beneficiary achieved at least 9% weight '\n",
      "          'loss (WL) from his/her baseline weight in months 1–24 under the '\n",
      "          'MDPP Expanded Model (EM). This is a one-time payment available when '\n",
      "          'a beneficiary first achieves at least 9% weight loss from baseline '\n",
      "          'as measured by an in-person weight measurement at a core session, '\n",
      "          'core maintenance session, or ongoing maintenance session.,G9882,Two '\n",
      "          'Medicare Diabetes Prevention Program (MDPP) ongoing maintenance '\n",
      "          'sessions (MS) were attended by an MDPP beneficiary in months (mo) '\n",
      "          '13–15 under the MDPP Expanded Model (EM). An ongoing maintenance '\n",
      "          'session is an MDPP service that: (1) is furnished by an MDPP '\n",
      "          'supplier during months 13 through 24 of the MDPP services period; '\n",
      "          '(2) is approximately 1 hour in length; and (3) adheres to a '\n",
      "          'CDC-approved DPP curriculum for maintenance sessions. The '\n",
      "          'beneficiary maintained at least 5% weight loss (WL) from his/her '\n",
      "          'baseline weight, as measured by at least one in-person weight '\n",
      "          'measurement at an ongoing maintenance session in months '\n",
      "          '13–15.,G9883,Two Medicare Diabetes Prevention Program (MDPP) '\n",
      "          'ongoing maintenance sessions (MS) were attended by an MDPP '\n",
      "          'beneficiary in months (mo) 16–18 under the MDPP Expanded Model '\n",
      "          '(EM). An ongoing maintenance session is an MDPP service that: (1) '\n",
      "          'is furnished by an MDPP supplier during months 13 through 24 of the '\n",
      "          'MDPP services period; (2) is approximately 1 hour in length; and '\n",
      "          '(3) adheres to a CDC-approved DPP curriculum for maintenance '\n",
      "          'sessions. The beneficiary maintained at least 5% weight loss (WL) '\n",
      "          'from his/her baseline weight, as measured by at least one in-person '\n",
      "          'weight measurement at an ongoing maintenance session in months '\n",
      "          '16–18.,G9884,Two Medicare Diabetes Prevention Program (MDPP) '\n",
      "          'ongoing maintenance sessions (MS) were attended by an MDPP '\n",
      "          'beneficiary in months (mo) 19–21 under the MDPP Expanded Model '\n",
      "          '(EM). An ongoing maintenance session is an MDPP service that: (1) '\n",
      "          'is furnished by an MDPP supplier during months 13 through 24 of the '\n",
      "          'MDPP services period; (2) is approximately 1 hour in length; and '\n",
      "          '(3) adheres to a CDC-approved DPP curriculum for maintenance '\n",
      "          'sessions. The beneficiary maintained at least 5% weight loss (WL) '\n",
      "          'from his/her baseline weight, as measured by at least one in-person '\n",
      "          'weight measurement at an ongoing maintenance session in months '\n",
      "          '19–21.,G9885,Two Medicare Diabetes Prevention Program (MDPP) '\n",
      "          'ongoing maintenance sessions (MS) were attended by an MDPP '\n",
      "          'beneficiary in months (mo) 22–24 under the MDPP Expanded Model '\n",
      "          '(EM). An ongoing maintenance session is an MDPP service that: (1) '\n",
      "          'is furnished by an MDPP supplier during months 13 through 24 of the '\n",
      "          'MDPP services period; (2) is approximately 1 hour in length; and '\n",
      "          '(3) adheres to a CDC-approved DPP curriculum for maintenance '\n",
      "          'sessions. The beneficiary maintained at least 5% weight loss (WL) '\n",
      "          'from his/her baseline weight, as measured by at least one in-person '\n",
      "          'weight measurement at an ongoing maintenance session in months '\n",
      "          '22–24.,G9890,Bridge Payment: A one-time payment for the first '\n",
      "          'Medicare Diabetes Prevention Program (MDPP) core session, core '\n",
      "          'maintenance session, or ongoing maintenance session furnished by an '\n",
      "          'MDPP supplier to an MDPP beneficiary during months 1–24 of the MDPP '\n",
      "          'Expanded Model (EM) who has previously received MDPP services from '\n",
      "          'a different MDPP supplier under the MDPP Expanded Model. A supplier '\n",
      "          'may only receive one bridge payment per MDPP beneficiary.,G9891'}\n",
      "========================================\n",
      "PNEUMO\n",
      "{'HCPCS': '90670,90732,G0009'}\n",
      "========================================\n",
      "PROLONGED\n",
      "{'HCPCS': 'G0513,G0514'}\n",
      "========================================\n",
      "PROSTATE_CAN\n",
      "{'HCPCS': 'G0102,G0103'}\n",
      "========================================\n",
      "CERV_CAN\n",
      "{'HCPCS': 'G0476'}\n",
      "========================================\n",
      "STI\n",
      "{'HCPCS': '86631,86632,87110,87270,87320,87490,87491,87810,87800,87590,87591,87850,87800,86592,86593,86780,87340,87341,G0445'}\n",
      "========================================\n",
      "MAMMO\n",
      "{'HCPCS': '77063,77067'}\n",
      "========================================\n",
      "PAP\n",
      "{'HCPCS': 'G0123,G0124,G0141,G0143,G0144,G0145,G0147,G0148,P3000,P3001,Q0091'}\n",
      "========================================\n",
      "PELVIC\n",
      "{'HCPCS': 'G0101'}\n",
      "========================================\n",
      "ULTRASOUND\n",
      "{'HCPCS': '76706'}\n"
     ]
    }
   ],
   "source": [
    "for s in services:\n",
    "    print('='*40)\n",
    "    print(s)\n",
    "    pprint.pprint(svc_dict2[s])"
   ]
  },
  {
   "cell_type": "code",
   "execution_count": 31,
   "metadata": {},
   "outputs": [
    {
     "data": {
      "text/html": [
       "<div>\n",
       "<style scoped>\n",
       "    .dataframe tbody tr th:only-of-type {\n",
       "        vertical-align: middle;\n",
       "    }\n",
       "\n",
       "    .dataframe tbody tr th {\n",
       "        vertical-align: top;\n",
       "    }\n",
       "\n",
       "    .dataframe thead th {\n",
       "        text-align: right;\n",
       "    }\n",
       "</style>\n",
       "<table border=\"1\" class=\"dataframe\">\n",
       "  <thead>\n",
       "    <tr style=\"text-align: right;\">\n",
       "      <th></th>\n",
       "      <th>HCPCS</th>\n",
       "    </tr>\n",
       "  </thead>\n",
       "  <tbody>\n",
       "    <tr>\n",
       "      <th>ALC_MISUSE</th>\n",
       "      <td>G0442,G0443</td>\n",
       "    </tr>\n",
       "    <tr>\n",
       "      <th>AWV</th>\n",
       "      <td>G0438,G0439,G0468,99497,99498</td>\n",
       "    </tr>\n",
       "    <tr>\n",
       "      <th>BONE_MASS</th>\n",
       "      <td>76977,77078,77080,77081,77085,G0130</td>\n",
       "    </tr>\n",
       "    <tr>\n",
       "      <th>CARDIO_DIS</th>\n",
       "      <td>80061,82465 Cholesterol, serum, total,83718 Lipoprotein, direct measurement, high density cholesterol (HDL cholesterol),84478 Triglycerides</td>\n",
       "    </tr>\n",
       "    <tr>\n",
       "      <th>CARDIO_IBT</th>\n",
       "      <td>G0446</td>\n",
       "    </tr>\n",
       "  </tbody>\n",
       "</table>\n",
       "</div>"
      ],
      "text/plain": [
       "                                                                                                                                                  HCPCS\n",
       "ALC_MISUSE  G0442,G0443                                                                                                                                \n",
       "AWV         G0438,G0439,G0468,99497,99498                                                                                                              \n",
       "BONE_MASS   76977,77078,77080,77081,77085,G0130                                                                                                        \n",
       "CARDIO_DIS  80061,82465 Cholesterol, serum, total,83718 Lipoprotein, direct measurement, high density cholesterol (HDL cholesterol),84478 Triglycerides\n",
       "CARDIO_IBT  G0446                                                                                                                                      "
      ]
     },
     "execution_count": 31,
     "metadata": {},
     "output_type": "execute_result"
    }
   ],
   "source": [
    "svc_df2 = pd.DataFrame.from_dict(svc_dict2, orient='index')\n",
    "svc_df2.head()"
   ]
  },
  {
   "cell_type": "code",
   "execution_count": 32,
   "metadata": {},
   "outputs": [],
   "source": [
    "writer = pd.ExcelWriter(r'C:\\Users\\{}\\Downloads\\preventive_services.xlsx'.format(user))\n",
    "svc_df.to_excel(writer, 'Sheet1')\n",
    "svc_df2.to_excel(writer, 'Sheet2')\n",
    "writer.save()"
   ]
  },
  {
   "cell_type": "code",
   "execution_count": null,
   "metadata": {},
   "outputs": [],
   "source": []
  },
  {
   "cell_type": "code",
   "execution_count": null,
   "metadata": {},
   "outputs": [],
   "source": []
  }
 ],
 "metadata": {
  "kernelspec": {
   "display_name": "Python 3",
   "language": "python",
   "name": "python3"
  },
  "language_info": {
   "codemirror_mode": {
    "name": "ipython",
    "version": 3
   },
   "file_extension": ".py",
   "mimetype": "text/x-python",
   "name": "python",
   "nbconvert_exporter": "python",
   "pygments_lexer": "ipython3",
   "version": "3.6.4"
  }
 },
 "nbformat": 4,
 "nbformat_minor": 2
}
